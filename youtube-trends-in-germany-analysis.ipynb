{
 "cells": [
  {
   "cell_type": "code",
   "execution_count": 1,
   "metadata": {
    "_cell_guid": "b1076dfc-b9ad-4769-8c92-a6c4dae69d19",
    "_uuid": "8f2839f25d086af736a60e9eeb907d3b93b6e0e5"
   },
   "outputs": [
    {
     "name": "stdout",
     "output_type": "stream",
     "text": [
      "/kaggle/input/youtube-new/FRvideos.csv\n",
      "/kaggle/input/youtube-new/JP_category_id.json\n",
      "/kaggle/input/youtube-new/USvideos.csv\n",
      "/kaggle/input/youtube-new/JPvideos.csv\n",
      "/kaggle/input/youtube-new/CA_category_id.json\n",
      "/kaggle/input/youtube-new/GBvideos.csv\n",
      "/kaggle/input/youtube-new/MXvideos.csv\n",
      "/kaggle/input/youtube-new/GB_category_id.json\n",
      "/kaggle/input/youtube-new/DEvideos.csv\n",
      "/kaggle/input/youtube-new/US_category_id.json\n",
      "/kaggle/input/youtube-new/IN_category_id.json\n",
      "/kaggle/input/youtube-new/KRvideos.csv\n",
      "/kaggle/input/youtube-new/DE_category_id.json\n",
      "/kaggle/input/youtube-new/KR_category_id.json\n",
      "/kaggle/input/youtube-new/FR_category_id.json\n",
      "/kaggle/input/youtube-new/CAvideos.csv\n",
      "/kaggle/input/youtube-new/RU_category_id.json\n",
      "/kaggle/input/youtube-new/MX_category_id.json\n",
      "/kaggle/input/youtube-new/INvideos.csv\n",
      "/kaggle/input/youtube-new/RUvideos.csv\n"
     ]
    }
   ],
   "source": [
    "# This Python 3 environment comes with many helpful analytics libraries installed\n",
    "# It is defined by the kaggle/python docker image: https://github.com/kaggle/docker-python\n",
    "# For example, here's several helpful packages to load in \n",
    "\n",
    "import numpy as np # linear algebra\n",
    "import pandas as pd # data processing, CSV file I/O (e.g. pd.read_csv)\n",
    "\n",
    "# Input data files are available in the \"../input/\" directory.\n",
    "# For example, running this (by clicking run or pressing Shift+Enter) will list all files under the input directory\n",
    "\n",
    "import os\n",
    "for dirname, _, filenames in os.walk('/kaggle/input'):\n",
    "    for filename in filenames:\n",
    "        print(os.path.join(dirname, filename))\n",
    "\n",
    "# Any results you write to the current directory are saved as output."
   ]
  },
  {
   "cell_type": "code",
   "execution_count": 2,
   "metadata": {
    "_cell_guid": "79c7e3d0-c299-4dcb-8224-4455121ee9b0",
    "_uuid": "d629ff2d2480ee46fbb7e2d37f6b5fab8052498a"
   },
   "outputs": [],
   "source": [
    "germany = pd.read_csv('/kaggle/input/youtube-new/DEvideos.csv')"
   ]
  },
  {
   "cell_type": "code",
   "execution_count": 3,
   "metadata": {},
   "outputs": [
    {
     "data": {
      "text/html": [
       "<div>\n",
       "<style scoped>\n",
       "    .dataframe tbody tr th:only-of-type {\n",
       "        vertical-align: middle;\n",
       "    }\n",
       "\n",
       "    .dataframe tbody tr th {\n",
       "        vertical-align: top;\n",
       "    }\n",
       "\n",
       "    .dataframe thead th {\n",
       "        text-align: right;\n",
       "    }\n",
       "</style>\n",
       "<table border=\"1\" class=\"dataframe\">\n",
       "  <thead>\n",
       "    <tr style=\"text-align: right;\">\n",
       "      <th></th>\n",
       "      <th>video_id</th>\n",
       "      <th>trending_date</th>\n",
       "      <th>title</th>\n",
       "      <th>channel_title</th>\n",
       "      <th>category_id</th>\n",
       "      <th>publish_time</th>\n",
       "      <th>tags</th>\n",
       "      <th>views</th>\n",
       "      <th>likes</th>\n",
       "      <th>dislikes</th>\n",
       "      <th>comment_count</th>\n",
       "      <th>thumbnail_link</th>\n",
       "      <th>comments_disabled</th>\n",
       "      <th>ratings_disabled</th>\n",
       "      <th>video_error_or_removed</th>\n",
       "      <th>description</th>\n",
       "    </tr>\n",
       "  </thead>\n",
       "  <tbody>\n",
       "    <tr>\n",
       "      <th>0</th>\n",
       "      <td>LgVi6y5QIjM</td>\n",
       "      <td>17.14.11</td>\n",
       "      <td>Sing zu Ende! | Gesangseinlagen vom Feinsten |...</td>\n",
       "      <td>inscope21</td>\n",
       "      <td>24</td>\n",
       "      <td>2017-11-13T17:08:49.000Z</td>\n",
       "      <td>inscope21|\"sing zu ende\"|\"gesangseinlagen\"|\"ge...</td>\n",
       "      <td>252786</td>\n",
       "      <td>35885</td>\n",
       "      <td>230</td>\n",
       "      <td>1539</td>\n",
       "      <td>https://i.ytimg.com/vi/LgVi6y5QIjM/default.jpg</td>\n",
       "      <td>False</td>\n",
       "      <td>False</td>\n",
       "      <td>False</td>\n",
       "      <td>Heute gibt es mal wieder ein neues Format... w...</td>\n",
       "    </tr>\n",
       "    <tr>\n",
       "      <th>1</th>\n",
       "      <td>Bayt7uQith4</td>\n",
       "      <td>17.14.11</td>\n",
       "      <td>Kinder ferngesteuert im Kiosk! Erwachsene abzo...</td>\n",
       "      <td>LUKE! Die Woche und ich</td>\n",
       "      <td>23</td>\n",
       "      <td>2017-11-12T22:30:01.000Z</td>\n",
       "      <td>Kinder|\"ferngesteuert\"|\"Kinder ferngesteuert\"|...</td>\n",
       "      <td>797196</td>\n",
       "      <td>53576</td>\n",
       "      <td>302</td>\n",
       "      <td>1278</td>\n",
       "      <td>https://i.ytimg.com/vi/Bayt7uQith4/default.jpg</td>\n",
       "      <td>False</td>\n",
       "      <td>False</td>\n",
       "      <td>False</td>\n",
       "      <td>Kinder ferngesteuert! Kinder lassen sich sooo ...</td>\n",
       "    </tr>\n",
       "    <tr>\n",
       "      <th>2</th>\n",
       "      <td>1ZAPwfrtAFY</td>\n",
       "      <td>17.14.11</td>\n",
       "      <td>The Trump Presidency: Last Week Tonight with J...</td>\n",
       "      <td>LastWeekTonight</td>\n",
       "      <td>24</td>\n",
       "      <td>2017-11-13T07:30:00.000Z</td>\n",
       "      <td>last week tonight trump presidency|\"last week ...</td>\n",
       "      <td>2418783</td>\n",
       "      <td>97190</td>\n",
       "      <td>6146</td>\n",
       "      <td>12703</td>\n",
       "      <td>https://i.ytimg.com/vi/1ZAPwfrtAFY/default.jpg</td>\n",
       "      <td>False</td>\n",
       "      <td>False</td>\n",
       "      <td>False</td>\n",
       "      <td>One year after the presidential election, John...</td>\n",
       "    </tr>\n",
       "    <tr>\n",
       "      <th>3</th>\n",
       "      <td>AHtypnRk7JE</td>\n",
       "      <td>17.14.11</td>\n",
       "      <td>Das Fermi-Paradoxon</td>\n",
       "      <td>100SekundenPhysik</td>\n",
       "      <td>27</td>\n",
       "      <td>2017-11-12T15:00:01.000Z</td>\n",
       "      <td>Physik|\"Wissenschaft\"|\"Technik\"|\"Science-Ficti...</td>\n",
       "      <td>380247</td>\n",
       "      <td>31821</td>\n",
       "      <td>458</td>\n",
       "      <td>1955</td>\n",
       "      <td>https://i.ytimg.com/vi/AHtypnRk7JE/default.jpg</td>\n",
       "      <td>False</td>\n",
       "      <td>False</td>\n",
       "      <td>False</td>\n",
       "      <td>►Alle Videos: http://bit.ly/1fa7Tw3\\n\\n\\n✚Snap...</td>\n",
       "    </tr>\n",
       "    <tr>\n",
       "      <th>4</th>\n",
       "      <td>ZJ9We4bjcg0</td>\n",
       "      <td>17.14.11</td>\n",
       "      <td>18 SONGS mit Kelly MissesVlog (Sing-off)</td>\n",
       "      <td>rezo</td>\n",
       "      <td>24</td>\n",
       "      <td>2017-11-12T13:10:36.000Z</td>\n",
       "      <td>kelly|\"missesvlog\"|\"kelly song\"|\"bausa\"|\"bausa...</td>\n",
       "      <td>822213</td>\n",
       "      <td>100684</td>\n",
       "      <td>2467</td>\n",
       "      <td>10244</td>\n",
       "      <td>https://i.ytimg.com/vi/ZJ9We4bjcg0/default.jpg</td>\n",
       "      <td>False</td>\n",
       "      <td>False</td>\n",
       "      <td>False</td>\n",
       "      <td>18 Song Mashup über den (veränderten) Beat von...</td>\n",
       "    </tr>\n",
       "  </tbody>\n",
       "</table>\n",
       "</div>"
      ],
      "text/plain": [
       "      video_id trending_date  \\\n",
       "0  LgVi6y5QIjM      17.14.11   \n",
       "1  Bayt7uQith4      17.14.11   \n",
       "2  1ZAPwfrtAFY      17.14.11   \n",
       "3  AHtypnRk7JE      17.14.11   \n",
       "4  ZJ9We4bjcg0      17.14.11   \n",
       "\n",
       "                                               title            channel_title  \\\n",
       "0  Sing zu Ende! | Gesangseinlagen vom Feinsten |...                inscope21   \n",
       "1  Kinder ferngesteuert im Kiosk! Erwachsene abzo...  LUKE! Die Woche und ich   \n",
       "2  The Trump Presidency: Last Week Tonight with J...          LastWeekTonight   \n",
       "3                                Das Fermi-Paradoxon        100SekundenPhysik   \n",
       "4           18 SONGS mit Kelly MissesVlog (Sing-off)                     rezo   \n",
       "\n",
       "   category_id              publish_time  \\\n",
       "0           24  2017-11-13T17:08:49.000Z   \n",
       "1           23  2017-11-12T22:30:01.000Z   \n",
       "2           24  2017-11-13T07:30:00.000Z   \n",
       "3           27  2017-11-12T15:00:01.000Z   \n",
       "4           24  2017-11-12T13:10:36.000Z   \n",
       "\n",
       "                                                tags    views   likes  \\\n",
       "0  inscope21|\"sing zu ende\"|\"gesangseinlagen\"|\"ge...   252786   35885   \n",
       "1  Kinder|\"ferngesteuert\"|\"Kinder ferngesteuert\"|...   797196   53576   \n",
       "2  last week tonight trump presidency|\"last week ...  2418783   97190   \n",
       "3  Physik|\"Wissenschaft\"|\"Technik\"|\"Science-Ficti...   380247   31821   \n",
       "4  kelly|\"missesvlog\"|\"kelly song\"|\"bausa\"|\"bausa...   822213  100684   \n",
       "\n",
       "   dislikes  comment_count                                  thumbnail_link  \\\n",
       "0       230           1539  https://i.ytimg.com/vi/LgVi6y5QIjM/default.jpg   \n",
       "1       302           1278  https://i.ytimg.com/vi/Bayt7uQith4/default.jpg   \n",
       "2      6146          12703  https://i.ytimg.com/vi/1ZAPwfrtAFY/default.jpg   \n",
       "3       458           1955  https://i.ytimg.com/vi/AHtypnRk7JE/default.jpg   \n",
       "4      2467          10244  https://i.ytimg.com/vi/ZJ9We4bjcg0/default.jpg   \n",
       "\n",
       "   comments_disabled  ratings_disabled  video_error_or_removed  \\\n",
       "0              False             False                   False   \n",
       "1              False             False                   False   \n",
       "2              False             False                   False   \n",
       "3              False             False                   False   \n",
       "4              False             False                   False   \n",
       "\n",
       "                                         description  \n",
       "0  Heute gibt es mal wieder ein neues Format... w...  \n",
       "1  Kinder ferngesteuert! Kinder lassen sich sooo ...  \n",
       "2  One year after the presidential election, John...  \n",
       "3  ►Alle Videos: http://bit.ly/1fa7Tw3\\n\\n\\n✚Snap...  \n",
       "4  18 Song Mashup über den (veränderten) Beat von...  "
      ]
     },
     "execution_count": 3,
     "metadata": {},
     "output_type": "execute_result"
    }
   ],
   "source": [
    "germany.head()"
   ]
  },
  {
   "cell_type": "code",
   "execution_count": 4,
   "metadata": {},
   "outputs": [
    {
     "data": {
      "text/html": [
       "<div>\n",
       "<style scoped>\n",
       "    .dataframe tbody tr th:only-of-type {\n",
       "        vertical-align: middle;\n",
       "    }\n",
       "\n",
       "    .dataframe tbody tr th {\n",
       "        vertical-align: top;\n",
       "    }\n",
       "\n",
       "    .dataframe thead th {\n",
       "        text-align: right;\n",
       "    }\n",
       "</style>\n",
       "<table border=\"1\" class=\"dataframe\">\n",
       "  <thead>\n",
       "    <tr style=\"text-align: right;\">\n",
       "      <th></th>\n",
       "      <th>video_id</th>\n",
       "      <th>trending_date</th>\n",
       "      <th>title</th>\n",
       "      <th>channel_title</th>\n",
       "      <th>category_id</th>\n",
       "      <th>publish_time</th>\n",
       "      <th>tags</th>\n",
       "      <th>views</th>\n",
       "      <th>likes</th>\n",
       "      <th>dislikes</th>\n",
       "      <th>comment_count</th>\n",
       "      <th>thumbnail_link</th>\n",
       "      <th>comments_disabled</th>\n",
       "      <th>ratings_disabled</th>\n",
       "      <th>video_error_or_removed</th>\n",
       "      <th>description</th>\n",
       "    </tr>\n",
       "  </thead>\n",
       "  <tbody>\n",
       "    <tr>\n",
       "      <th>0</th>\n",
       "      <td>LgVi6y5QIjM</td>\n",
       "      <td>17.14.11</td>\n",
       "      <td>Sing zu Ende! | Gesangseinlagen vom Feinsten |...</td>\n",
       "      <td>inscope21</td>\n",
       "      <td>24</td>\n",
       "      <td>2017-11-13T17:08:49.000Z</td>\n",
       "      <td>inscope21|\"sing zu ende\"|\"gesangseinlagen\"|\"ge...</td>\n",
       "      <td>252786</td>\n",
       "      <td>35885</td>\n",
       "      <td>230</td>\n",
       "      <td>1539</td>\n",
       "      <td>https://i.ytimg.com/vi/LgVi6y5QIjM/default.jpg</td>\n",
       "      <td>False</td>\n",
       "      <td>False</td>\n",
       "      <td>False</td>\n",
       "      <td>Heute gibt es mal wieder ein neues Format... w...</td>\n",
       "    </tr>\n",
       "    <tr>\n",
       "      <th>1</th>\n",
       "      <td>Bayt7uQith4</td>\n",
       "      <td>17.14.11</td>\n",
       "      <td>Kinder ferngesteuert im Kiosk! Erwachsene abzo...</td>\n",
       "      <td>LUKE! Die Woche und ich</td>\n",
       "      <td>23</td>\n",
       "      <td>2017-11-12T22:30:01.000Z</td>\n",
       "      <td>Kinder|\"ferngesteuert\"|\"Kinder ferngesteuert\"|...</td>\n",
       "      <td>797196</td>\n",
       "      <td>53576</td>\n",
       "      <td>302</td>\n",
       "      <td>1278</td>\n",
       "      <td>https://i.ytimg.com/vi/Bayt7uQith4/default.jpg</td>\n",
       "      <td>False</td>\n",
       "      <td>False</td>\n",
       "      <td>False</td>\n",
       "      <td>Kinder ferngesteuert! Kinder lassen sich sooo ...</td>\n",
       "    </tr>\n",
       "    <tr>\n",
       "      <th>2</th>\n",
       "      <td>1ZAPwfrtAFY</td>\n",
       "      <td>17.14.11</td>\n",
       "      <td>The Trump Presidency: Last Week Tonight with J...</td>\n",
       "      <td>LastWeekTonight</td>\n",
       "      <td>24</td>\n",
       "      <td>2017-11-13T07:30:00.000Z</td>\n",
       "      <td>last week tonight trump presidency|\"last week ...</td>\n",
       "      <td>2418783</td>\n",
       "      <td>97190</td>\n",
       "      <td>6146</td>\n",
       "      <td>12703</td>\n",
       "      <td>https://i.ytimg.com/vi/1ZAPwfrtAFY/default.jpg</td>\n",
       "      <td>False</td>\n",
       "      <td>False</td>\n",
       "      <td>False</td>\n",
       "      <td>One year after the presidential election, John...</td>\n",
       "    </tr>\n",
       "    <tr>\n",
       "      <th>3</th>\n",
       "      <td>AHtypnRk7JE</td>\n",
       "      <td>17.14.11</td>\n",
       "      <td>Das Fermi-Paradoxon</td>\n",
       "      <td>100SekundenPhysik</td>\n",
       "      <td>27</td>\n",
       "      <td>2017-11-12T15:00:01.000Z</td>\n",
       "      <td>Physik|\"Wissenschaft\"|\"Technik\"|\"Science-Ficti...</td>\n",
       "      <td>380247</td>\n",
       "      <td>31821</td>\n",
       "      <td>458</td>\n",
       "      <td>1955</td>\n",
       "      <td>https://i.ytimg.com/vi/AHtypnRk7JE/default.jpg</td>\n",
       "      <td>False</td>\n",
       "      <td>False</td>\n",
       "      <td>False</td>\n",
       "      <td>►Alle Videos: http://bit.ly/1fa7Tw3\\n\\n\\n✚Snap...</td>\n",
       "    </tr>\n",
       "    <tr>\n",
       "      <th>4</th>\n",
       "      <td>ZJ9We4bjcg0</td>\n",
       "      <td>17.14.11</td>\n",
       "      <td>18 SONGS mit Kelly MissesVlog (Sing-off)</td>\n",
       "      <td>rezo</td>\n",
       "      <td>24</td>\n",
       "      <td>2017-11-12T13:10:36.000Z</td>\n",
       "      <td>kelly|\"missesvlog\"|\"kelly song\"|\"bausa\"|\"bausa...</td>\n",
       "      <td>822213</td>\n",
       "      <td>100684</td>\n",
       "      <td>2467</td>\n",
       "      <td>10244</td>\n",
       "      <td>https://i.ytimg.com/vi/ZJ9We4bjcg0/default.jpg</td>\n",
       "      <td>False</td>\n",
       "      <td>False</td>\n",
       "      <td>False</td>\n",
       "      <td>18 Song Mashup über den (veränderten) Beat von...</td>\n",
       "    </tr>\n",
       "  </tbody>\n",
       "</table>\n",
       "</div>"
      ],
      "text/plain": [
       "      video_id trending_date  \\\n",
       "0  LgVi6y5QIjM      17.14.11   \n",
       "1  Bayt7uQith4      17.14.11   \n",
       "2  1ZAPwfrtAFY      17.14.11   \n",
       "3  AHtypnRk7JE      17.14.11   \n",
       "4  ZJ9We4bjcg0      17.14.11   \n",
       "\n",
       "                                               title            channel_title  \\\n",
       "0  Sing zu Ende! | Gesangseinlagen vom Feinsten |...                inscope21   \n",
       "1  Kinder ferngesteuert im Kiosk! Erwachsene abzo...  LUKE! Die Woche und ich   \n",
       "2  The Trump Presidency: Last Week Tonight with J...          LastWeekTonight   \n",
       "3                                Das Fermi-Paradoxon        100SekundenPhysik   \n",
       "4           18 SONGS mit Kelly MissesVlog (Sing-off)                     rezo   \n",
       "\n",
       "   category_id              publish_time  \\\n",
       "0           24  2017-11-13T17:08:49.000Z   \n",
       "1           23  2017-11-12T22:30:01.000Z   \n",
       "2           24  2017-11-13T07:30:00.000Z   \n",
       "3           27  2017-11-12T15:00:01.000Z   \n",
       "4           24  2017-11-12T13:10:36.000Z   \n",
       "\n",
       "                                                tags    views   likes  \\\n",
       "0  inscope21|\"sing zu ende\"|\"gesangseinlagen\"|\"ge...   252786   35885   \n",
       "1  Kinder|\"ferngesteuert\"|\"Kinder ferngesteuert\"|...   797196   53576   \n",
       "2  last week tonight trump presidency|\"last week ...  2418783   97190   \n",
       "3  Physik|\"Wissenschaft\"|\"Technik\"|\"Science-Ficti...   380247   31821   \n",
       "4  kelly|\"missesvlog\"|\"kelly song\"|\"bausa\"|\"bausa...   822213  100684   \n",
       "\n",
       "   dislikes  comment_count                                  thumbnail_link  \\\n",
       "0       230           1539  https://i.ytimg.com/vi/LgVi6y5QIjM/default.jpg   \n",
       "1       302           1278  https://i.ytimg.com/vi/Bayt7uQith4/default.jpg   \n",
       "2      6146          12703  https://i.ytimg.com/vi/1ZAPwfrtAFY/default.jpg   \n",
       "3       458           1955  https://i.ytimg.com/vi/AHtypnRk7JE/default.jpg   \n",
       "4      2467          10244  https://i.ytimg.com/vi/ZJ9We4bjcg0/default.jpg   \n",
       "\n",
       "   comments_disabled  ratings_disabled  video_error_or_removed  \\\n",
       "0              False             False                   False   \n",
       "1              False             False                   False   \n",
       "2              False             False                   False   \n",
       "3              False             False                   False   \n",
       "4              False             False                   False   \n",
       "\n",
       "                                         description  \n",
       "0  Heute gibt es mal wieder ein neues Format... w...  \n",
       "1  Kinder ferngesteuert! Kinder lassen sich sooo ...  \n",
       "2  One year after the presidential election, John...  \n",
       "3  ►Alle Videos: http://bit.ly/1fa7Tw3\\n\\n\\n✚Snap...  \n",
       "4  18 Song Mashup über den (veränderten) Beat von...  "
      ]
     },
     "execution_count": 4,
     "metadata": {},
     "output_type": "execute_result"
    }
   ],
   "source": [
    "germany.head()"
   ]
  },
  {
   "cell_type": "code",
   "execution_count": 5,
   "metadata": {},
   "outputs": [],
   "source": [
    "df = germany"
   ]
  },
  {
   "cell_type": "code",
   "execution_count": 6,
   "metadata": {},
   "outputs": [
    {
     "data": {
      "text/plain": [
       "18.18.01    200\n",
       "18.28.02    200\n",
       "18.06.04    200\n",
       "17.26.12    200\n",
       "18.07.05    200\n",
       "           ... \n",
       "18.16.02    195\n",
       "18.13.06    193\n",
       "18.28.05    185\n",
       "18.10.06    177\n",
       "18.14.05    171\n",
       "Name: trending_date, Length: 205, dtype: int64"
      ]
     },
     "execution_count": 6,
     "metadata": {},
     "output_type": "execute_result"
    }
   ],
   "source": [
    "df['trending_date'].value_counts()"
   ]
  },
  {
   "cell_type": "code",
   "execution_count": 7,
   "metadata": {},
   "outputs": [],
   "source": [
    "df['overall_likes'] = df['likes'] - df['dislikes']"
   ]
  },
  {
   "cell_type": "code",
   "execution_count": 8,
   "metadata": {},
   "outputs": [],
   "source": [
    "df = df.drop(columns=['likes','dislikes'])"
   ]
  },
  {
   "cell_type": "code",
   "execution_count": 9,
   "metadata": {},
   "outputs": [
    {
     "data": {
      "text/plain": [
       "<matplotlib.axes._subplots.AxesSubplot at 0x7fdeb9b116d8>"
      ]
     },
     "execution_count": 9,
     "metadata": {},
     "output_type": "execute_result"
    },
    {
     "data": {
      "image/png": "[encoded data removed]",
      "text/plain": [
       "<Figure size 432x288 with 1 Axes>"
      ]
     },
     "metadata": {
      "needs_background": "light"
     },
     "output_type": "display_data"
    }
   ],
   "source": [
    "df.groupby('category_id').agg({'overall_likes':'sum'}).sort_values(by='overall_likes',ascending=False).head(10).plot.bar()"
   ]
  },
  {
   "cell_type": "code",
   "execution_count": 10,
   "metadata": {},
   "outputs": [],
   "source": [
    "#Catergory 10 and 24 have the highest likes, and they are quite ahead of the other categories"
   ]
  },
  {
   "cell_type": "code",
   "execution_count": 11,
   "metadata": {},
   "outputs": [
    {
     "data": {
      "text/html": [
       "<div>\n",
       "<style scoped>\n",
       "    .dataframe tbody tr th:only-of-type {\n",
       "        vertical-align: middle;\n",
       "    }\n",
       "\n",
       "    .dataframe tbody tr th {\n",
       "        vertical-align: top;\n",
       "    }\n",
       "\n",
       "    .dataframe thead th {\n",
       "        text-align: right;\n",
       "    }\n",
       "</style>\n",
       "<table border=\"1\" class=\"dataframe\">\n",
       "  <thead>\n",
       "    <tr style=\"text-align: right;\">\n",
       "      <th></th>\n",
       "      <th>video_id</th>\n",
       "      <th>trending_date</th>\n",
       "      <th>title</th>\n",
       "      <th>channel_title</th>\n",
       "      <th>category_id</th>\n",
       "      <th>publish_time</th>\n",
       "      <th>tags</th>\n",
       "      <th>views</th>\n",
       "      <th>comment_count</th>\n",
       "      <th>thumbnail_link</th>\n",
       "      <th>comments_disabled</th>\n",
       "      <th>ratings_disabled</th>\n",
       "      <th>video_error_or_removed</th>\n",
       "      <th>description</th>\n",
       "      <th>overall_likes</th>\n",
       "    </tr>\n",
       "  </thead>\n",
       "  <tbody>\n",
       "    <tr>\n",
       "      <th>0</th>\n",
       "      <td>LgVi6y5QIjM</td>\n",
       "      <td>17.14.11</td>\n",
       "      <td>Sing zu Ende! | Gesangseinlagen vom Feinsten |...</td>\n",
       "      <td>inscope21</td>\n",
       "      <td>24</td>\n",
       "      <td>2017-11-13T17:08:49.000Z</td>\n",
       "      <td>inscope21|\"sing zu ende\"|\"gesangseinlagen\"|\"ge...</td>\n",
       "      <td>252786</td>\n",
       "      <td>1539</td>\n",
       "      <td>https://i.ytimg.com/vi/LgVi6y5QIjM/default.jpg</td>\n",
       "      <td>False</td>\n",
       "      <td>False</td>\n",
       "      <td>False</td>\n",
       "      <td>Heute gibt es mal wieder ein neues Format... w...</td>\n",
       "      <td>35655</td>\n",
       "    </tr>\n",
       "    <tr>\n",
       "      <th>1</th>\n",
       "      <td>Bayt7uQith4</td>\n",
       "      <td>17.14.11</td>\n",
       "      <td>Kinder ferngesteuert im Kiosk! Erwachsene abzo...</td>\n",
       "      <td>LUKE! Die Woche und ich</td>\n",
       "      <td>23</td>\n",
       "      <td>2017-11-12T22:30:01.000Z</td>\n",
       "      <td>Kinder|\"ferngesteuert\"|\"Kinder ferngesteuert\"|...</td>\n",
       "      <td>797196</td>\n",
       "      <td>1278</td>\n",
       "      <td>https://i.ytimg.com/vi/Bayt7uQith4/default.jpg</td>\n",
       "      <td>False</td>\n",
       "      <td>False</td>\n",
       "      <td>False</td>\n",
       "      <td>Kinder ferngesteuert! Kinder lassen sich sooo ...</td>\n",
       "      <td>53274</td>\n",
       "    </tr>\n",
       "    <tr>\n",
       "      <th>2</th>\n",
       "      <td>1ZAPwfrtAFY</td>\n",
       "      <td>17.14.11</td>\n",
       "      <td>The Trump Presidency: Last Week Tonight with J...</td>\n",
       "      <td>LastWeekTonight</td>\n",
       "      <td>24</td>\n",
       "      <td>2017-11-13T07:30:00.000Z</td>\n",
       "      <td>last week tonight trump presidency|\"last week ...</td>\n",
       "      <td>2418783</td>\n",
       "      <td>12703</td>\n",
       "      <td>https://i.ytimg.com/vi/1ZAPwfrtAFY/default.jpg</td>\n",
       "      <td>False</td>\n",
       "      <td>False</td>\n",
       "      <td>False</td>\n",
       "      <td>One year after the presidential election, John...</td>\n",
       "      <td>91044</td>\n",
       "    </tr>\n",
       "    <tr>\n",
       "      <th>3</th>\n",
       "      <td>AHtypnRk7JE</td>\n",
       "      <td>17.14.11</td>\n",
       "      <td>Das Fermi-Paradoxon</td>\n",
       "      <td>100SekundenPhysik</td>\n",
       "      <td>27</td>\n",
       "      <td>2017-11-12T15:00:01.000Z</td>\n",
       "      <td>Physik|\"Wissenschaft\"|\"Technik\"|\"Science-Ficti...</td>\n",
       "      <td>380247</td>\n",
       "      <td>1955</td>\n",
       "      <td>https://i.ytimg.com/vi/AHtypnRk7JE/default.jpg</td>\n",
       "      <td>False</td>\n",
       "      <td>False</td>\n",
       "      <td>False</td>\n",
       "      <td>►Alle Videos: http://bit.ly/1fa7Tw3\\n\\n\\n✚Snap...</td>\n",
       "      <td>31363</td>\n",
       "    </tr>\n",
       "    <tr>\n",
       "      <th>4</th>\n",
       "      <td>ZJ9We4bjcg0</td>\n",
       "      <td>17.14.11</td>\n",
       "      <td>18 SONGS mit Kelly MissesVlog (Sing-off)</td>\n",
       "      <td>rezo</td>\n",
       "      <td>24</td>\n",
       "      <td>2017-11-12T13:10:36.000Z</td>\n",
       "      <td>kelly|\"missesvlog\"|\"kelly song\"|\"bausa\"|\"bausa...</td>\n",
       "      <td>822213</td>\n",
       "      <td>10244</td>\n",
       "      <td>https://i.ytimg.com/vi/ZJ9We4bjcg0/default.jpg</td>\n",
       "      <td>False</td>\n",
       "      <td>False</td>\n",
       "      <td>False</td>\n",
       "      <td>18 Song Mashup über den (veränderten) Beat von...</td>\n",
       "      <td>98217</td>\n",
       "    </tr>\n",
       "  </tbody>\n",
       "</table>\n",
       "</div>"
      ],
      "text/plain": [
       "      video_id trending_date  \\\n",
       "0  LgVi6y5QIjM      17.14.11   \n",
       "1  Bayt7uQith4      17.14.11   \n",
       "2  1ZAPwfrtAFY      17.14.11   \n",
       "3  AHtypnRk7JE      17.14.11   \n",
       "4  ZJ9We4bjcg0      17.14.11   \n",
       "\n",
       "                                               title            channel_title  \\\n",
       "0  Sing zu Ende! | Gesangseinlagen vom Feinsten |...                inscope21   \n",
       "1  Kinder ferngesteuert im Kiosk! Erwachsene abzo...  LUKE! Die Woche und ich   \n",
       "2  The Trump Presidency: Last Week Tonight with J...          LastWeekTonight   \n",
       "3                                Das Fermi-Paradoxon        100SekundenPhysik   \n",
       "4           18 SONGS mit Kelly MissesVlog (Sing-off)                     rezo   \n",
       "\n",
       "   category_id              publish_time  \\\n",
       "0           24  2017-11-13T17:08:49.000Z   \n",
       "1           23  2017-11-12T22:30:01.000Z   \n",
       "2           24  2017-11-13T07:30:00.000Z   \n",
       "3           27  2017-11-12T15:00:01.000Z   \n",
       "4           24  2017-11-12T13:10:36.000Z   \n",
       "\n",
       "                                                tags    views  comment_count  \\\n",
       "0  inscope21|\"sing zu ende\"|\"gesangseinlagen\"|\"ge...   252786           1539   \n",
       "1  Kinder|\"ferngesteuert\"|\"Kinder ferngesteuert\"|...   797196           1278   \n",
       "2  last week tonight trump presidency|\"last week ...  2418783          12703   \n",
       "3  Physik|\"Wissenschaft\"|\"Technik\"|\"Science-Ficti...   380247           1955   \n",
       "4  kelly|\"missesvlog\"|\"kelly song\"|\"bausa\"|\"bausa...   822213          10244   \n",
       "\n",
       "                                   thumbnail_link  comments_disabled  \\\n",
       "0  https://i.ytimg.com/vi/LgVi6y5QIjM/default.jpg              False   \n",
       "1  https://i.ytimg.com/vi/Bayt7uQith4/default.jpg              False   \n",
       "2  https://i.ytimg.com/vi/1ZAPwfrtAFY/default.jpg              False   \n",
       "3  https://i.ytimg.com/vi/AHtypnRk7JE/default.jpg              False   \n",
       "4  https://i.ytimg.com/vi/ZJ9We4bjcg0/default.jpg              False   \n",
       "\n",
       "   ratings_disabled  video_error_or_removed  \\\n",
       "0             False                   False   \n",
       "1             False                   False   \n",
       "2             False                   False   \n",
       "3             False                   False   \n",
       "4             False                   False   \n",
       "\n",
       "                                         description  overall_likes  \n",
       "0  Heute gibt es mal wieder ein neues Format... w...          35655  \n",
       "1  Kinder ferngesteuert! Kinder lassen sich sooo ...          53274  \n",
       "2  One year after the presidential election, John...          91044  \n",
       "3  ►Alle Videos: http://bit.ly/1fa7Tw3\\n\\n\\n✚Snap...          31363  \n",
       "4  18 Song Mashup über den (veränderten) Beat von...          98217  "
      ]
     },
     "execution_count": 11,
     "metadata": {},
     "output_type": "execute_result"
    }
   ],
   "source": [
    "df.head()"
   ]
  },
  {
   "cell_type": "code",
   "execution_count": 12,
   "metadata": {},
   "outputs": [
    {
     "data": {
      "text/plain": [
       "<matplotlib.axes._subplots.AxesSubplot at 0x7fdeb99ffba8>"
      ]
     },
     "execution_count": 12,
     "metadata": {},
     "output_type": "execute_result"
    },
    {
     "data": {
      "image/png": "[encoded data removed]",
      "text/plain": [
       "<Figure size 432x288 with 1 Axes>"
      ]
     },
     "metadata": {
      "needs_background": "light"
     },
     "output_type": "display_data"
    }
   ],
   "source": [
    "df.groupby('category_id').agg({'channel_title':'count'}).sort_values(by='channel_title',ascending=False).head(10).plot.bar()"
   ]
  },
  {
   "cell_type": "code",
   "execution_count": 13,
   "metadata": {},
   "outputs": [],
   "source": [
    "##Highest Type of the watched channels in Germany belong to Category 24 and 22"
   ]
  },
  {
   "cell_type": "code",
   "execution_count": 14,
   "metadata": {},
   "outputs": [
    {
     "data": {
      "text/plain": [
       "<matplotlib.axes._subplots.AxesSubplot at 0x7fde8b804cf8>"
      ]
     },
     "execution_count": 14,
     "metadata": {},
     "output_type": "execute_result"
    },
    {
     "data": {
      "image/png": "[encoded data removed]",
      "text/plain": [
       "<Figure size 432x288 with 2 Axes>"
      ]
     },
     "metadata": {
      "needs_background": "light"
     },
     "output_type": "display_data"
    }
   ],
   "source": [
    "import seaborn as sns\n",
    "sns.heatmap(df.corr(),annot=True)"
   ]
  },
  {
   "cell_type": "code",
   "execution_count": 15,
   "metadata": {},
   "outputs": [
    {
     "data": {
      "text/plain": [
       "<matplotlib.axes._subplots.AxesSubplot at 0x7fde8b10f4e0>"
      ]
     },
     "execution_count": 15,
     "metadata": {},
     "output_type": "execute_result"
    },
    {
     "data": {
      "image/png": "[encoded data removed]",
      "text/plain": [
       "<Figure size 432x288 with 1 Axes>"
      ]
     },
     "metadata": {
      "needs_background": "light"
     },
     "output_type": "display_data"
    }
   ],
   "source": [
    "sns.scatterplot(data=df,x='comment_count',y='views')"
   ]
  },
  {
   "cell_type": "code",
   "execution_count": 16,
   "metadata": {},
   "outputs": [],
   "source": [
    "#We can see that the comment count and the views are highly correlated, from the correlation heatmap,\n",
    "#and the same can be observed using the Scatterplot above.This can be shown for other variables as well."
   ]
  },
  {
   "cell_type": "code",
   "execution_count": 17,
   "metadata": {},
   "outputs": [],
   "source": [
    "df['year_month'] = df['publish_time'].apply(lambda x: str(x)[:-17])"
   ]
  },
  {
   "cell_type": "code",
   "execution_count": 18,
   "metadata": {},
   "outputs": [],
   "source": [
    "df = df.drop(columns='publish_time')"
   ]
  },
  {
   "cell_type": "code",
   "execution_count": 19,
   "metadata": {},
   "outputs": [
    {
     "data": {
      "text/html": [
       "<div>\n",
       "<style scoped>\n",
       "    .dataframe tbody tr th:only-of-type {\n",
       "        vertical-align: middle;\n",
       "    }\n",
       "\n",
       "    .dataframe tbody tr th {\n",
       "        vertical-align: top;\n",
       "    }\n",
       "\n",
       "    .dataframe thead th {\n",
       "        text-align: right;\n",
       "    }\n",
       "</style>\n",
       "<table border=\"1\" class=\"dataframe\">\n",
       "  <thead>\n",
       "    <tr style=\"text-align: right;\">\n",
       "      <th></th>\n",
       "      <th>video_id</th>\n",
       "      <th>trending_date</th>\n",
       "      <th>title</th>\n",
       "      <th>channel_title</th>\n",
       "      <th>category_id</th>\n",
       "      <th>tags</th>\n",
       "      <th>views</th>\n",
       "      <th>comment_count</th>\n",
       "      <th>thumbnail_link</th>\n",
       "      <th>comments_disabled</th>\n",
       "      <th>ratings_disabled</th>\n",
       "      <th>video_error_or_removed</th>\n",
       "      <th>description</th>\n",
       "      <th>overall_likes</th>\n",
       "      <th>year_month</th>\n",
       "    </tr>\n",
       "  </thead>\n",
       "  <tbody>\n",
       "    <tr>\n",
       "      <th>0</th>\n",
       "      <td>LgVi6y5QIjM</td>\n",
       "      <td>17.14.11</td>\n",
       "      <td>Sing zu Ende! | Gesangseinlagen vom Feinsten |...</td>\n",
       "      <td>inscope21</td>\n",
       "      <td>24</td>\n",
       "      <td>inscope21|\"sing zu ende\"|\"gesangseinlagen\"|\"ge...</td>\n",
       "      <td>252786</td>\n",
       "      <td>1539</td>\n",
       "      <td>https://i.ytimg.com/vi/LgVi6y5QIjM/default.jpg</td>\n",
       "      <td>False</td>\n",
       "      <td>False</td>\n",
       "      <td>False</td>\n",
       "      <td>Heute gibt es mal wieder ein neues Format... w...</td>\n",
       "      <td>35655</td>\n",
       "      <td>2017-11</td>\n",
       "    </tr>\n",
       "    <tr>\n",
       "      <th>1</th>\n",
       "      <td>Bayt7uQith4</td>\n",
       "      <td>17.14.11</td>\n",
       "      <td>Kinder ferngesteuert im Kiosk! Erwachsene abzo...</td>\n",
       "      <td>LUKE! Die Woche und ich</td>\n",
       "      <td>23</td>\n",
       "      <td>Kinder|\"ferngesteuert\"|\"Kinder ferngesteuert\"|...</td>\n",
       "      <td>797196</td>\n",
       "      <td>1278</td>\n",
       "      <td>https://i.ytimg.com/vi/Bayt7uQith4/default.jpg</td>\n",
       "      <td>False</td>\n",
       "      <td>False</td>\n",
       "      <td>False</td>\n",
       "      <td>Kinder ferngesteuert! Kinder lassen sich sooo ...</td>\n",
       "      <td>53274</td>\n",
       "      <td>2017-11</td>\n",
       "    </tr>\n",
       "    <tr>\n",
       "      <th>2</th>\n",
       "      <td>1ZAPwfrtAFY</td>\n",
       "      <td>17.14.11</td>\n",
       "      <td>The Trump Presidency: Last Week Tonight with J...</td>\n",
       "      <td>LastWeekTonight</td>\n",
       "      <td>24</td>\n",
       "      <td>last week tonight trump presidency|\"last week ...</td>\n",
       "      <td>2418783</td>\n",
       "      <td>12703</td>\n",
       "      <td>https://i.ytimg.com/vi/1ZAPwfrtAFY/default.jpg</td>\n",
       "      <td>False</td>\n",
       "      <td>False</td>\n",
       "      <td>False</td>\n",
       "      <td>One year after the presidential election, John...</td>\n",
       "      <td>91044</td>\n",
       "      <td>2017-11</td>\n",
       "    </tr>\n",
       "    <tr>\n",
       "      <th>3</th>\n",
       "      <td>AHtypnRk7JE</td>\n",
       "      <td>17.14.11</td>\n",
       "      <td>Das Fermi-Paradoxon</td>\n",
       "      <td>100SekundenPhysik</td>\n",
       "      <td>27</td>\n",
       "      <td>Physik|\"Wissenschaft\"|\"Technik\"|\"Science-Ficti...</td>\n",
       "      <td>380247</td>\n",
       "      <td>1955</td>\n",
       "      <td>https://i.ytimg.com/vi/AHtypnRk7JE/default.jpg</td>\n",
       "      <td>False</td>\n",
       "      <td>False</td>\n",
       "      <td>False</td>\n",
       "      <td>►Alle Videos: http://bit.ly/1fa7Tw3\\n\\n\\n✚Snap...</td>\n",
       "      <td>31363</td>\n",
       "      <td>2017-11</td>\n",
       "    </tr>\n",
       "    <tr>\n",
       "      <th>4</th>\n",
       "      <td>ZJ9We4bjcg0</td>\n",
       "      <td>17.14.11</td>\n",
       "      <td>18 SONGS mit Kelly MissesVlog (Sing-off)</td>\n",
       "      <td>rezo</td>\n",
       "      <td>24</td>\n",
       "      <td>kelly|\"missesvlog\"|\"kelly song\"|\"bausa\"|\"bausa...</td>\n",
       "      <td>822213</td>\n",
       "      <td>10244</td>\n",
       "      <td>https://i.ytimg.com/vi/ZJ9We4bjcg0/default.jpg</td>\n",
       "      <td>False</td>\n",
       "      <td>False</td>\n",
       "      <td>False</td>\n",
       "      <td>18 Song Mashup über den (veränderten) Beat von...</td>\n",
       "      <td>98217</td>\n",
       "      <td>2017-11</td>\n",
       "    </tr>\n",
       "  </tbody>\n",
       "</table>\n",
       "</div>"
      ],
      "text/plain": [
       "      video_id trending_date  \\\n",
       "0  LgVi6y5QIjM      17.14.11   \n",
       "1  Bayt7uQith4      17.14.11   \n",
       "2  1ZAPwfrtAFY      17.14.11   \n",
       "3  AHtypnRk7JE      17.14.11   \n",
       "4  ZJ9We4bjcg0      17.14.11   \n",
       "\n",
       "                                               title            channel_title  \\\n",
       "0  Sing zu Ende! | Gesangseinlagen vom Feinsten |...                inscope21   \n",
       "1  Kinder ferngesteuert im Kiosk! Erwachsene abzo...  LUKE! Die Woche und ich   \n",
       "2  The Trump Presidency: Last Week Tonight with J...          LastWeekTonight   \n",
       "3                                Das Fermi-Paradoxon        100SekundenPhysik   \n",
       "4           18 SONGS mit Kelly MissesVlog (Sing-off)                     rezo   \n",
       "\n",
       "   category_id                                               tags    views  \\\n",
       "0           24  inscope21|\"sing zu ende\"|\"gesangseinlagen\"|\"ge...   252786   \n",
       "1           23  Kinder|\"ferngesteuert\"|\"Kinder ferngesteuert\"|...   797196   \n",
       "2           24  last week tonight trump presidency|\"last week ...  2418783   \n",
       "3           27  Physik|\"Wissenschaft\"|\"Technik\"|\"Science-Ficti...   380247   \n",
       "4           24  kelly|\"missesvlog\"|\"kelly song\"|\"bausa\"|\"bausa...   822213   \n",
       "\n",
       "   comment_count                                  thumbnail_link  \\\n",
       "0           1539  https://i.ytimg.com/vi/LgVi6y5QIjM/default.jpg   \n",
       "1           1278  https://i.ytimg.com/vi/Bayt7uQith4/default.jpg   \n",
       "2          12703  https://i.ytimg.com/vi/1ZAPwfrtAFY/default.jpg   \n",
       "3           1955  https://i.ytimg.com/vi/AHtypnRk7JE/default.jpg   \n",
       "4          10244  https://i.ytimg.com/vi/ZJ9We4bjcg0/default.jpg   \n",
       "\n",
       "   comments_disabled  ratings_disabled  video_error_or_removed  \\\n",
       "0              False             False                   False   \n",
       "1              False             False                   False   \n",
       "2              False             False                   False   \n",
       "3              False             False                   False   \n",
       "4              False             False                   False   \n",
       "\n",
       "                                         description  overall_likes year_month  \n",
       "0  Heute gibt es mal wieder ein neues Format... w...          35655    2017-11  \n",
       "1  Kinder ferngesteuert! Kinder lassen sich sooo ...          53274    2017-11  \n",
       "2  One year after the presidential election, John...          91044    2017-11  \n",
       "3  ►Alle Videos: http://bit.ly/1fa7Tw3\\n\\n\\n✚Snap...          31363    2017-11  \n",
       "4  18 Song Mashup über den (veränderten) Beat von...          98217    2017-11  "
      ]
     },
     "execution_count": 19,
     "metadata": {},
     "output_type": "execute_result"
    }
   ],
   "source": [
    "df.head()"
   ]
  },
  {
   "cell_type": "code",
   "execution_count": 20,
   "metadata": {},
   "outputs": [
    {
     "data": {
      "text/plain": [
       "<matplotlib.axes._subplots.AxesSubplot at 0x7fde8ac31978>"
      ]
     },
     "execution_count": 20,
     "metadata": {},
     "output_type": "execute_result"
    },
    {
     "data": {
      "image/png": "[encoded data removed]",
      "text/plain": [
       "<Figure size 432x288 with 1 Axes>"
      ]
     },
     "metadata": {
      "needs_background": "light"
     },
     "output_type": "display_data"
    }
   ],
   "source": [
    "df['year_month'].apply(lambda x: x[:-3]).value_counts().plot.bar()"
   ]
  },
  {
   "cell_type": "code",
   "execution_count": 21,
   "metadata": {},
   "outputs": [],
   "source": [
    "##Videos watched on youtube have increased in the period between 2016-2018"
   ]
  },
  {
   "cell_type": "code",
   "execution_count": 22,
   "metadata": {},
   "outputs": [
    {
     "data": {
      "text/html": [
       "<div>\n",
       "<style scoped>\n",
       "    .dataframe tbody tr th:only-of-type {\n",
       "        vertical-align: middle;\n",
       "    }\n",
       "\n",
       "    .dataframe tbody tr th {\n",
       "        vertical-align: top;\n",
       "    }\n",
       "\n",
       "    .dataframe thead th {\n",
       "        text-align: right;\n",
       "    }\n",
       "</style>\n",
       "<table border=\"1\" class=\"dataframe\">\n",
       "  <thead>\n",
       "    <tr style=\"text-align: right;\">\n",
       "      <th></th>\n",
       "      <th>video_id</th>\n",
       "      <th>trending_date</th>\n",
       "      <th>title</th>\n",
       "      <th>channel_title</th>\n",
       "      <th>category_id</th>\n",
       "      <th>tags</th>\n",
       "      <th>views</th>\n",
       "      <th>comment_count</th>\n",
       "      <th>thumbnail_link</th>\n",
       "      <th>comments_disabled</th>\n",
       "      <th>ratings_disabled</th>\n",
       "      <th>video_error_or_removed</th>\n",
       "      <th>description</th>\n",
       "      <th>overall_likes</th>\n",
       "      <th>year_month</th>\n",
       "    </tr>\n",
       "  </thead>\n",
       "  <tbody>\n",
       "    <tr>\n",
       "      <th>0</th>\n",
       "      <td>LgVi6y5QIjM</td>\n",
       "      <td>17.14.11</td>\n",
       "      <td>Sing zu Ende! | Gesangseinlagen vom Feinsten |...</td>\n",
       "      <td>inscope21</td>\n",
       "      <td>24</td>\n",
       "      <td>inscope21|\"sing zu ende\"|\"gesangseinlagen\"|\"ge...</td>\n",
       "      <td>252786</td>\n",
       "      <td>1539</td>\n",
       "      <td>https://i.ytimg.com/vi/LgVi6y5QIjM/default.jpg</td>\n",
       "      <td>False</td>\n",
       "      <td>False</td>\n",
       "      <td>False</td>\n",
       "      <td>Heute gibt es mal wieder ein neues Format... w...</td>\n",
       "      <td>35655</td>\n",
       "      <td>2017-11</td>\n",
       "    </tr>\n",
       "    <tr>\n",
       "      <th>1</th>\n",
       "      <td>Bayt7uQith4</td>\n",
       "      <td>17.14.11</td>\n",
       "      <td>Kinder ferngesteuert im Kiosk! Erwachsene abzo...</td>\n",
       "      <td>LUKE! Die Woche und ich</td>\n",
       "      <td>23</td>\n",
       "      <td>Kinder|\"ferngesteuert\"|\"Kinder ferngesteuert\"|...</td>\n",
       "      <td>797196</td>\n",
       "      <td>1278</td>\n",
       "      <td>https://i.ytimg.com/vi/Bayt7uQith4/default.jpg</td>\n",
       "      <td>False</td>\n",
       "      <td>False</td>\n",
       "      <td>False</td>\n",
       "      <td>Kinder ferngesteuert! Kinder lassen sich sooo ...</td>\n",
       "      <td>53274</td>\n",
       "      <td>2017-11</td>\n",
       "    </tr>\n",
       "    <tr>\n",
       "      <th>2</th>\n",
       "      <td>1ZAPwfrtAFY</td>\n",
       "      <td>17.14.11</td>\n",
       "      <td>The Trump Presidency: Last Week Tonight with J...</td>\n",
       "      <td>LastWeekTonight</td>\n",
       "      <td>24</td>\n",
       "      <td>last week tonight trump presidency|\"last week ...</td>\n",
       "      <td>2418783</td>\n",
       "      <td>12703</td>\n",
       "      <td>https://i.ytimg.com/vi/1ZAPwfrtAFY/default.jpg</td>\n",
       "      <td>False</td>\n",
       "      <td>False</td>\n",
       "      <td>False</td>\n",
       "      <td>One year after the presidential election, John...</td>\n",
       "      <td>91044</td>\n",
       "      <td>2017-11</td>\n",
       "    </tr>\n",
       "    <tr>\n",
       "      <th>3</th>\n",
       "      <td>AHtypnRk7JE</td>\n",
       "      <td>17.14.11</td>\n",
       "      <td>Das Fermi-Paradoxon</td>\n",
       "      <td>100SekundenPhysik</td>\n",
       "      <td>27</td>\n",
       "      <td>Physik|\"Wissenschaft\"|\"Technik\"|\"Science-Ficti...</td>\n",
       "      <td>380247</td>\n",
       "      <td>1955</td>\n",
       "      <td>https://i.ytimg.com/vi/AHtypnRk7JE/default.jpg</td>\n",
       "      <td>False</td>\n",
       "      <td>False</td>\n",
       "      <td>False</td>\n",
       "      <td>►Alle Videos: http://bit.ly/1fa7Tw3\\n\\n\\n✚Snap...</td>\n",
       "      <td>31363</td>\n",
       "      <td>2017-11</td>\n",
       "    </tr>\n",
       "    <tr>\n",
       "      <th>4</th>\n",
       "      <td>ZJ9We4bjcg0</td>\n",
       "      <td>17.14.11</td>\n",
       "      <td>18 SONGS mit Kelly MissesVlog (Sing-off)</td>\n",
       "      <td>rezo</td>\n",
       "      <td>24</td>\n",
       "      <td>kelly|\"missesvlog\"|\"kelly song\"|\"bausa\"|\"bausa...</td>\n",
       "      <td>822213</td>\n",
       "      <td>10244</td>\n",
       "      <td>https://i.ytimg.com/vi/ZJ9We4bjcg0/default.jpg</td>\n",
       "      <td>False</td>\n",
       "      <td>False</td>\n",
       "      <td>False</td>\n",
       "      <td>18 Song Mashup über den (veränderten) Beat von...</td>\n",
       "      <td>98217</td>\n",
       "      <td>2017-11</td>\n",
       "    </tr>\n",
       "  </tbody>\n",
       "</table>\n",
       "</div>"
      ],
      "text/plain": [
       "      video_id trending_date  \\\n",
       "0  LgVi6y5QIjM      17.14.11   \n",
       "1  Bayt7uQith4      17.14.11   \n",
       "2  1ZAPwfrtAFY      17.14.11   \n",
       "3  AHtypnRk7JE      17.14.11   \n",
       "4  ZJ9We4bjcg0      17.14.11   \n",
       "\n",
       "                                               title            channel_title  \\\n",
       "0  Sing zu Ende! | Gesangseinlagen vom Feinsten |...                inscope21   \n",
       "1  Kinder ferngesteuert im Kiosk! Erwachsene abzo...  LUKE! Die Woche und ich   \n",
       "2  The Trump Presidency: Last Week Tonight with J...          LastWeekTonight   \n",
       "3                                Das Fermi-Paradoxon        100SekundenPhysik   \n",
       "4           18 SONGS mit Kelly MissesVlog (Sing-off)                     rezo   \n",
       "\n",
       "   category_id                                               tags    views  \\\n",
       "0           24  inscope21|\"sing zu ende\"|\"gesangseinlagen\"|\"ge...   252786   \n",
       "1           23  Kinder|\"ferngesteuert\"|\"Kinder ferngesteuert\"|...   797196   \n",
       "2           24  last week tonight trump presidency|\"last week ...  2418783   \n",
       "3           27  Physik|\"Wissenschaft\"|\"Technik\"|\"Science-Ficti...   380247   \n",
       "4           24  kelly|\"missesvlog\"|\"kelly song\"|\"bausa\"|\"bausa...   822213   \n",
       "\n",
       "   comment_count                                  thumbnail_link  \\\n",
       "0           1539  https://i.ytimg.com/vi/LgVi6y5QIjM/default.jpg   \n",
       "1           1278  https://i.ytimg.com/vi/Bayt7uQith4/default.jpg   \n",
       "2          12703  https://i.ytimg.com/vi/1ZAPwfrtAFY/default.jpg   \n",
       "3           1955  https://i.ytimg.com/vi/AHtypnRk7JE/default.jpg   \n",
       "4          10244  https://i.ytimg.com/vi/ZJ9We4bjcg0/default.jpg   \n",
       "\n",
       "   comments_disabled  ratings_disabled  video_error_or_removed  \\\n",
       "0              False             False                   False   \n",
       "1              False             False                   False   \n",
       "2              False             False                   False   \n",
       "3              False             False                   False   \n",
       "4              False             False                   False   \n",
       "\n",
       "                                         description  overall_likes year_month  \n",
       "0  Heute gibt es mal wieder ein neues Format... w...          35655    2017-11  \n",
       "1  Kinder ferngesteuert! Kinder lassen sich sooo ...          53274    2017-11  \n",
       "2  One year after the presidential election, John...          91044    2017-11  \n",
       "3  ►Alle Videos: http://bit.ly/1fa7Tw3\\n\\n\\n✚Snap...          31363    2017-11  \n",
       "4  18 Song Mashup über den (veränderten) Beat von...          98217    2017-11  "
      ]
     },
     "execution_count": 22,
     "metadata": {},
     "output_type": "execute_result"
    }
   ],
   "source": [
    "df.head()"
   ]
  },
  {
   "cell_type": "code",
   "execution_count": 23,
   "metadata": {},
   "outputs": [
    {
     "data": {
      "text/plain": [
       "<matplotlib.axes._subplots.AxesSubplot at 0x7fde8ab19550>"
      ]
     },
     "execution_count": 23,
     "metadata": {},
     "output_type": "execute_result"
    },
    {
     "data": {
      "image/png": "[encoded data removed]",
      "text/plain": [
       "<Figure size 432x288 with 1 Axes>"
      ]
     },
     "metadata": {
      "needs_background": "light"
     },
     "output_type": "display_data"
    }
   ],
   "source": [
    "df['channel_title'].value_counts().head(10).plot.bar()"
   ]
  },
  {
   "cell_type": "code",
   "execution_count": 24,
   "metadata": {},
   "outputs": [],
   "source": [
    "##The above shows the ten channels which released the most videos in Germany"
   ]
  },
  {
   "cell_type": "code",
   "execution_count": 25,
   "metadata": {},
   "outputs": [
    {
     "data": {
      "text/plain": [
       "<matplotlib.axes._subplots.AxesSubplot at 0x7fde8ac2b080>"
      ]
     },
     "execution_count": 25,
     "metadata": {},
     "output_type": "execute_result"
    },
    {
     "data": {
      "image/png": "[encoded data removed]",
      "text/plain": [
       "<Figure size 432x288 with 1 Axes>"
      ]
     },
     "metadata": {
      "needs_background": "light"
     },
     "output_type": "display_data"
    }
   ],
   "source": [
    "df.groupby('channel_title').agg({'overall_likes':'mean'}).sort_values(by='overall_likes',ascending=False).head(10).plot.bar()"
   ]
  },
  {
   "cell_type": "code",
   "execution_count": 26,
   "metadata": {},
   "outputs": [],
   "source": [
    "#The ten most liked channels in Germany as per the data given(date is given for around 5-6 years) "
   ]
  },
  {
   "cell_type": "code",
   "execution_count": null,
   "metadata": {},
   "outputs": [],
   "source": []
  }
 ],
 "metadata": {
  "kernelspec": {
   "display_name": "Python 3",
   "language": "python",
   "name": "python3"
  },
  "language_info": {
   "codemirror_mode": {
    "name": "ipython",
    "version": 3
   },
   "file_extension": ".py",
   "mimetype": "text/x-python",
   "name": "python",
   "nbconvert_exporter": "python",
   "pygments_lexer": "ipython3",
   "version": "3.6.6"
  }
 },
 "nbformat": 4,
 "nbformat_minor": 1
}
