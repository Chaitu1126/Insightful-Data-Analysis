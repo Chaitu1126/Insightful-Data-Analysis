{
 "cells": [
  {
   "cell_type": "code",
   "execution_count": 1,
   "metadata": {
    "scrolled": true
   },
   "outputs": [],
   "source": [
    "import numpy as np\n",
    "import pandas as pd\n",
    "import matplotlib.pyplot as plt\n",
    "import seaborn as sns\n",
    "%matplotlib inline\n",
    "import scipy\n",
    "from scipy.stats import skew,norm,zscore\n",
    "from sklearn.preprocessing import LabelEncoder,MinMaxScaler"
   ]
  },
  {
   "cell_type": "code",
   "execution_count": 2,
   "metadata": {
    "scrolled": true
   },
   "outputs": [],
   "source": [
    "import pandas as pd\n",
    "emiss = pd.read_csv(\"../input/co2-and-ghg-emission-data/emission data.csv\")"
   ]
  },
  {
   "cell_type": "code",
   "execution_count": null,
   "metadata": {
    "scrolled": true
   },
   "outputs": [],
   "source": []
  },
  {
   "cell_type": "code",
   "execution_count": 3,
   "metadata": {
    "scrolled": true
   },
   "outputs": [
    {
     "data": {
      "text/html": [
       "<div>\n",
       "<style scoped>\n",
       "    .dataframe tbody tr th:only-of-type {\n",
       "        vertical-align: middle;\n",
       "    }\n",
       "\n",
       "    .dataframe tbody tr th {\n",
       "        vertical-align: top;\n",
       "    }\n",
       "\n",
       "    .dataframe thead th {\n",
       "        text-align: right;\n",
       "    }\n",
       "</style>\n",
       "<table border=\"1\" class=\"dataframe\">\n",
       "  <thead>\n",
       "    <tr style=\"text-align: right;\">\n",
       "      <th></th>\n",
       "      <th>Country</th>\n",
       "      <th>1751</th>\n",
       "      <th>1752</th>\n",
       "      <th>1753</th>\n",
       "      <th>1754</th>\n",
       "      <th>1755</th>\n",
       "      <th>1756</th>\n",
       "      <th>1757</th>\n",
       "      <th>1758</th>\n",
       "      <th>1759</th>\n",
       "      <th>...</th>\n",
       "      <th>2008</th>\n",
       "      <th>2009</th>\n",
       "      <th>2010</th>\n",
       "      <th>2011</th>\n",
       "      <th>2012</th>\n",
       "      <th>2013</th>\n",
       "      <th>2014</th>\n",
       "      <th>2015</th>\n",
       "      <th>2016</th>\n",
       "      <th>2017</th>\n",
       "    </tr>\n",
       "  </thead>\n",
       "  <tbody>\n",
       "    <tr>\n",
       "      <th>0</th>\n",
       "      <td>Afghanistan</td>\n",
       "      <td>0</td>\n",
       "      <td>0</td>\n",
       "      <td>0</td>\n",
       "      <td>0</td>\n",
       "      <td>0</td>\n",
       "      <td>0</td>\n",
       "      <td>0</td>\n",
       "      <td>0</td>\n",
       "      <td>0</td>\n",
       "      <td>...</td>\n",
       "      <td>8.515264e+07</td>\n",
       "      <td>9.191295e+07</td>\n",
       "      <td>1.003652e+08</td>\n",
       "      <td>1.125912e+08</td>\n",
       "      <td>1.233332e+08</td>\n",
       "      <td>1.333337e+08</td>\n",
       "      <td>1.431228e+08</td>\n",
       "      <td>1.532303e+08</td>\n",
       "      <td>1.654882e+08</td>\n",
       "      <td>1.785029e+08</td>\n",
       "    </tr>\n",
       "    <tr>\n",
       "      <th>1</th>\n",
       "      <td>Africa</td>\n",
       "      <td>0</td>\n",
       "      <td>0</td>\n",
       "      <td>0</td>\n",
       "      <td>0</td>\n",
       "      <td>0</td>\n",
       "      <td>0</td>\n",
       "      <td>0</td>\n",
       "      <td>0</td>\n",
       "      <td>0</td>\n",
       "      <td>...</td>\n",
       "      <td>3.183077e+10</td>\n",
       "      <td>3.301904e+10</td>\n",
       "      <td>3.421283e+10</td>\n",
       "      <td>3.541120e+10</td>\n",
       "      <td>3.664504e+10</td>\n",
       "      <td>3.789569e+10</td>\n",
       "      <td>3.918617e+10</td>\n",
       "      <td>4.047518e+10</td>\n",
       "      <td>4.178583e+10</td>\n",
       "      <td>4.311757e+10</td>\n",
       "    </tr>\n",
       "    <tr>\n",
       "      <th>2</th>\n",
       "      <td>Albania</td>\n",
       "      <td>0</td>\n",
       "      <td>0</td>\n",
       "      <td>0</td>\n",
       "      <td>0</td>\n",
       "      <td>0</td>\n",
       "      <td>0</td>\n",
       "      <td>0</td>\n",
       "      <td>0</td>\n",
       "      <td>0</td>\n",
       "      <td>...</td>\n",
       "      <td>2.287948e+08</td>\n",
       "      <td>2.331696e+08</td>\n",
       "      <td>2.377643e+08</td>\n",
       "      <td>2.430001e+08</td>\n",
       "      <td>2.479062e+08</td>\n",
       "      <td>2.529662e+08</td>\n",
       "      <td>2.586784e+08</td>\n",
       "      <td>2.646261e+08</td>\n",
       "      <td>2.708990e+08</td>\n",
       "      <td>2.772782e+08</td>\n",
       "    </tr>\n",
       "    <tr>\n",
       "      <th>3</th>\n",
       "      <td>Algeria</td>\n",
       "      <td>0</td>\n",
       "      <td>0</td>\n",
       "      <td>0</td>\n",
       "      <td>0</td>\n",
       "      <td>0</td>\n",
       "      <td>0</td>\n",
       "      <td>0</td>\n",
       "      <td>0</td>\n",
       "      <td>0</td>\n",
       "      <td>...</td>\n",
       "      <td>2.894820e+09</td>\n",
       "      <td>3.015005e+09</td>\n",
       "      <td>3.132819e+09</td>\n",
       "      <td>3.252626e+09</td>\n",
       "      <td>3.380736e+09</td>\n",
       "      <td>3.513171e+09</td>\n",
       "      <td>3.656348e+09</td>\n",
       "      <td>3.806940e+09</td>\n",
       "      <td>3.957319e+09</td>\n",
       "      <td>4.107870e+09</td>\n",
       "    </tr>\n",
       "    <tr>\n",
       "      <th>4</th>\n",
       "      <td>Americas (other)</td>\n",
       "      <td>0</td>\n",
       "      <td>0</td>\n",
       "      <td>0</td>\n",
       "      <td>0</td>\n",
       "      <td>0</td>\n",
       "      <td>0</td>\n",
       "      <td>0</td>\n",
       "      <td>0</td>\n",
       "      <td>0</td>\n",
       "      <td>...</td>\n",
       "      <td>7.746025e+10</td>\n",
       "      <td>7.961787e+10</td>\n",
       "      <td>8.187178e+10</td>\n",
       "      <td>8.416656e+10</td>\n",
       "      <td>8.654197e+10</td>\n",
       "      <td>8.894874e+10</td>\n",
       "      <td>9.139192e+10</td>\n",
       "      <td>9.382747e+10</td>\n",
       "      <td>9.624253e+10</td>\n",
       "      <td>9.864116e+10</td>\n",
       "    </tr>\n",
       "  </tbody>\n",
       "</table>\n",
       "<p>5 rows × 268 columns</p>\n",
       "</div>"
      ],
      "text/plain": [
       "            Country  1751  1752  1753  1754  1755  1756  1757  1758  1759  \\\n",
       "0       Afghanistan     0     0     0     0     0     0     0     0     0   \n",
       "1            Africa     0     0     0     0     0     0     0     0     0   \n",
       "2           Albania     0     0     0     0     0     0     0     0     0   \n",
       "3           Algeria     0     0     0     0     0     0     0     0     0   \n",
       "4  Americas (other)     0     0     0     0     0     0     0     0     0   \n",
       "\n",
       "   ...          2008          2009          2010          2011          2012  \\\n",
       "0  ...  8.515264e+07  9.191295e+07  1.003652e+08  1.125912e+08  1.233332e+08   \n",
       "1  ...  3.183077e+10  3.301904e+10  3.421283e+10  3.541120e+10  3.664504e+10   \n",
       "2  ...  2.287948e+08  2.331696e+08  2.377643e+08  2.430001e+08  2.479062e+08   \n",
       "3  ...  2.894820e+09  3.015005e+09  3.132819e+09  3.252626e+09  3.380736e+09   \n",
       "4  ...  7.746025e+10  7.961787e+10  8.187178e+10  8.416656e+10  8.654197e+10   \n",
       "\n",
       "           2013          2014          2015          2016          2017  \n",
       "0  1.333337e+08  1.431228e+08  1.532303e+08  1.654882e+08  1.785029e+08  \n",
       "1  3.789569e+10  3.918617e+10  4.047518e+10  4.178583e+10  4.311757e+10  \n",
       "2  2.529662e+08  2.586784e+08  2.646261e+08  2.708990e+08  2.772782e+08  \n",
       "3  3.513171e+09  3.656348e+09  3.806940e+09  3.957319e+09  4.107870e+09  \n",
       "4  8.894874e+10  9.139192e+10  9.382747e+10  9.624253e+10  9.864116e+10  \n",
       "\n",
       "[5 rows x 268 columns]"
      ]
     },
     "execution_count": 3,
     "metadata": {},
     "output_type": "execute_result"
    }
   ],
   "source": [
    "emiss.head()"
   ]
  },
  {
   "cell_type": "code",
   "execution_count": 4,
   "metadata": {},
   "outputs": [
    {
     "data": {
      "text/plain": [
       "<matplotlib.axes._subplots.AxesSubplot at 0x7fd2d0998e48>"
      ]
     },
     "execution_count": 4,
     "metadata": {},
     "output_type": "execute_result"
    },
    {
     "data": {
      "image/png": "[encoded data removed]",
      "text/plain": [
       "<Figure size 432x288 with 1 Axes>"
      ]
     },
     "metadata": {
      "needs_background": "light"
     },
     "output_type": "display_data"
    }
   ],
   "source": [
    "a = emiss.groupby(['Country']).agg({'2017':'sum'}).sort_values(by='2017',ascending=False).head(10).reset_index()[emiss.groupby(['Country']).agg({'2017':'sum'}).sort_values(by='2017',ascending=False).head(10).reset_index()['Country']!='World']\n",
    "a.set_index('Country').plot.bar()"
   ]
  },
  {
   "cell_type": "code",
   "execution_count": 5,
   "metadata": {},
   "outputs": [],
   "source": [
    "from sklearn.model_selection import train_test_split"
   ]
  },
  {
   "cell_type": "code",
   "execution_count": 6,
   "metadata": {},
   "outputs": [],
   "source": [
    "x = emiss.iloc[:,:-1]\n",
    "y = emiss.iloc[:,-1]"
   ]
  },
  {
   "cell_type": "code",
   "execution_count": 7,
   "metadata": {},
   "outputs": [],
   "source": [
    "xtest,xtrain,ytest,ytrain = train_test_split(x,y,test_size=0.3,random_state = 0)"
   ]
  },
  {
   "cell_type": "code",
   "execution_count": 8,
   "metadata": {},
   "outputs": [
    {
     "name": "stdout",
     "output_type": "stream",
     "text": [
      "(161, 267) (70, 267) (70,) (161,)\n"
     ]
    }
   ],
   "source": [
    "print(xtest.shape,xtrain.shape,ytrain.shape,ytest.shape)"
   ]
  },
  {
   "cell_type": "code",
   "execution_count": null,
   "metadata": {},
   "outputs": [],
   "source": []
  },
  {
   "cell_type": "code",
   "execution_count": null,
   "metadata": {},
   "outputs": [],
   "source": []
  },
  {
   "cell_type": "code",
   "execution_count": 0,
   "metadata": {
    "_cell_guid": "",
    "_uuid": ""
   },
   "outputs": [],
   "source": []
  }
 ],
 "metadata": {
  "kernelspec": {
   "display_name": "Python 3",
   "language": "python",
   "name": "python3"
  },
  "language_info": {
   "codemirror_mode": {
    "name": "ipython",
    "version": 3
   },
   "file_extension": ".py",
   "mimetype": "text/x-python",
   "name": "python",
   "nbconvert_exporter": "python",
   "pygments_lexer": "ipython3",
   "version": "3.6.6"
  }
 },
 "nbformat": 4,
 "nbformat_minor": 1
}
